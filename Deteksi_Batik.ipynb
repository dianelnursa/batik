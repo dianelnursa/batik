{
  "nbformat": 4,
  "nbformat_minor": 0,
  "metadata": {
    "colab": {
      "provenance": []
    },
    "kernelspec": {
      "display_name": "Python 3",
      "name": "python3"
    },
    "language_info": {
      "name": "python"
    },
    "accelerator": "GPU"
  },
  "cells": [
    {
      "cell_type": "code",
      "metadata": {
        "id": "cl2Cz_KIDDdS"
      },
      "source": [
        "import tensorflow as tf\n",
        "from tensorflow.keras import backend, optimizers\n",
        "from tensorflow.keras.models import Sequential, Model\n",
        "from tensorflow.keras.layers import BatchNormalization, Dropout, Flatten, Dense, Activation\n",
        "from tensorflow.keras.callbacks import EarlyStopping, ModelCheckpoint, TensorBoard, LearningRateScheduler\n",
        "from tensorflow.keras.preprocessing.image import ImageDataGenerator\n",
        "\n",
        "import matplotlib.pyplot as plt"
      ],
      "execution_count": null,
      "outputs": []
    },
    {
      "cell_type": "code",
      "metadata": {
        "id": "LlxJ4H8FISQy"
      },
      "source": [
        "import zipfile\n",
        "\n",
        "local_zip = 'dataset1.zip'\n",
        "\n",
        "zip_ref = zipfile.ZipFile(local_zip, 'r')\n",
        "\n",
        "zip_ref.extractall('/content')\n",
        "zip_ref.close()"
      ],
      "execution_count": null,
      "outputs": []
    },
    {
      "cell_type": "code",
      "metadata": {
        "id": "kq08ozw5J9cy"
      },
      "source": [
        "import os\n",
        "\n",
        "base_dir = '/content/dataset1'\n",
        "train_dir = os.path.join( base_dir, 'Training')\n",
        "test_dir = os.path.join( base_dir, 'Testing')"
      ],
      "execution_count": null,
      "outputs": []
    },
    {
      "cell_type": "code",
      "metadata": {
        "id": "VKZZfVseKGxY"
      },
      "source": [
        "from keras.applications.mobilenet import preprocess_input"
      ],
      "execution_count": null,
      "outputs": []
    },
    {
      "cell_type": "code",
      "metadata": {
        "colab": {
          "base_uri": "https://localhost:8080/"
        },
        "id": "2OujsspoKVfu",
        "outputId": "620c8853-27d7-4242-af47-238a5c4c8332"
      },
      "source": [
        "train_datagen = ImageDataGenerator(rescale = 1./255.,#preprocessing_function=preprocess_input,\n",
        "      rotation_range=40,\n",
        "      width_shift_range=0.2,\n",
        "      height_shift_range=0.2,\n",
        "      zoom_range=0.2,\n",
        "      horizontal_flip=True,)\n",
        "\n",
        "test_datagen = ImageDataGenerator(rescale = 1./255.)#preprocessing_function=preprocess_input)\n",
        "\n",
        "train_generator = train_datagen.flow_from_directory(\n",
        "    train_dir,\n",
        "    target_size=(96, 96),\n",
        "    batch_size=32,\n",
        "    color_mode='rgb',\n",
        "    class_mode='sparse',\n",
        "    shuffle=True,\n",
        "    seed = 42\n",
        ")\n",
        "\n",
        "test_generator = test_datagen.flow_from_directory(\n",
        "    test_dir,\n",
        "    target_size=(96, 96),\n",
        "    batch_size=32,\n",
        "    color_mode='rgb',\n",
        "    class_mode='sparse',\n",
        "    seed = 42\n",
        ")"
      ],
      "execution_count": null,
      "outputs": [
        {
          "output_type": "stream",
          "text": [
            "Found 281 images belonging to 5 classes.\n",
            "Found 43 images belonging to 5 classes.\n"
          ],
          "name": "stdout"
        }
      ]
    },
    {
      "cell_type": "code",
      "metadata": {
        "colab": {
          "base_uri": "https://localhost:8080/"
        },
        "id": "2bF_fpEZKuLn",
        "outputId": "9dd35c05-8dac-45d4-9617-19e6949c9bc7"
      },
      "source": [
        "label = {y:x for x,y in test_generator.class_indices.items()}\n",
        "label"
      ],
      "execution_count": null,
      "outputs": [
        {
          "output_type": "execute_result",
          "data": {
            "text/plain": [
              "{0: 'Geblek Renteng', 1: 'Kawung', 2: 'Lereng', 3: 'Nitik', 4: 'Parang'}"
            ]
          },
          "metadata": {
            "tags": []
          },
          "execution_count": 8
        }
      ]
    },
    {
      "cell_type": "code",
      "metadata": {
        "id": "ZeA4EPH-Kw_s",
        "colab": {
          "base_uri": "https://localhost:8080/"
        },
        "outputId": "a580ff06-74d5-4c39-a480-3d43159c9db1"
      },
      "source": [
        "# Model Initialization\n",
        "\n",
        "from keras.applications.mobilenet_v2 import MobileNetV2\n",
        "\n",
        "base_model = MobileNetV2(input_shape=(96,96,3),\n",
        "                               include_top=False)"
      ],
      "execution_count": null,
      "outputs": [
        {
          "output_type": "stream",
          "text": [
            "Downloading data from https://storage.googleapis.com/tensorflow/keras-applications/mobilenet_v2/mobilenet_v2_weights_tf_dim_ordering_tf_kernels_1.0_96_no_top.h5\n",
            "9412608/9406464 [==============================] - 0s 0us/step\n",
            "9420800/9406464 [==============================] - 0s 0us/step\n"
          ],
          "name": "stdout"
        }
      ]
    },
    {
      "cell_type": "code",
      "metadata": {
        "id": "txVOfqvdLOEv"
      },
      "source": [
        "model=Sequential()\n",
        "model.add(base_model)\n",
        "model.add(Dropout(0.5))\n",
        "#model.add(tf.keras.layers.Conv2D(64, (3,3), activation='relu', input_shape=(80, 80, 3)))\n",
        "#model.add(tf.keras.layers.MaxPooling2D(2, 2))\n",
        "#model.add(tf.keras.layers.Conv2D(64, (3,3), activation='relu'))\n",
        "#model.add(tf.keras.layers.MaxPooling2D(2, 2))\n",
        "model.add(Flatten())\n",
        "model.add(Dense(512,activation='relu'))\n",
        "model.add(Dropout(0.5))\n",
        "model.add(Dense(128,activation='relu'))\n",
        "model.add(Dropout(0.2))\n",
        "#model.add(Dense(64,activation='relu'))\n",
        "#model.add(Dropout(0.2))\n",
        "model.add(Dense(len(label),activation='softmax'))"
      ],
      "execution_count": null,
      "outputs": []
    },
    {
      "cell_type": "code",
      "metadata": {
        "id": "g4iElxqyLS5S"
      },
      "source": [
        "opt=tf.keras.optimizers.Adam(learning_rate=0.0001)\n",
        "\n",
        "model.compile(loss='sparse_categorical_crossentropy',\n",
        "              metrics=['accuracy'],\n",
        "              optimizer=opt)"
      ],
      "execution_count": null,
      "outputs": []
    },
    {
      "cell_type": "code",
      "metadata": {
        "id": "gNOCV55ZLS_U"
      },
      "source": [
        "earlystopping = EarlyStopping(monitor = 'val_accuracy', \n",
        "                              mode = 'max', \n",
        "                              patience = 10,\n",
        "                              verbose = 1)"
      ],
      "execution_count": null,
      "outputs": []
    },
    {
      "cell_type": "code",
      "metadata": {
        "colab": {
          "base_uri": "https://localhost:8080/"
        },
        "id": "1Arw56EWLYmd",
        "outputId": "7d357cf7-d7fd-45f0-a9b2-7c597ec4dd01"
      },
      "source": [
        "# Model Fitting \n",
        "callback_list = [earlystopping]\n",
        "model_history=model.fit(train_generator,\n",
        "                        validation_data=test_generator,\n",
        "                        epochs = 50,\n",
        "                        shuffle=True,\n",
        "                        #callbacks = callback_list,\n",
        "                        verbose = 1)"
      ],
      "execution_count": null,
      "outputs": [
        {
          "output_type": "stream",
          "text": [
            "Epoch 1/50\n",
            "9/9 [==============================] - 4s 408ms/step - loss: 2.7201 - accuracy: 0.2740 - val_loss: 2.2525 - val_accuracy: 0.2326\n",
            "Epoch 2/50\n",
            "9/9 [==============================] - 2s 279ms/step - loss: 2.5757 - accuracy: 0.2918 - val_loss: 1.8443 - val_accuracy: 0.3023\n",
            "Epoch 3/50\n",
            "9/9 [==============================] - 2s 276ms/step - loss: 2.4034 - accuracy: 0.2776 - val_loss: 1.4987 - val_accuracy: 0.3721\n",
            "Epoch 4/50\n",
            "9/9 [==============================] - 2s 274ms/step - loss: 1.8682 - accuracy: 0.3808 - val_loss: 1.4408 - val_accuracy: 0.3721\n",
            "Epoch 5/50\n",
            "9/9 [==============================] - 3s 271ms/step - loss: 1.7532 - accuracy: 0.4235 - val_loss: 1.4129 - val_accuracy: 0.3721\n",
            "Epoch 6/50\n",
            "9/9 [==============================] - 3s 277ms/step - loss: 1.5512 - accuracy: 0.4626 - val_loss: 1.3922 - val_accuracy: 0.3953\n",
            "Epoch 7/50\n",
            "9/9 [==============================] - 3s 277ms/step - loss: 1.6491 - accuracy: 0.4662 - val_loss: 1.3437 - val_accuracy: 0.4186\n",
            "Epoch 8/50\n",
            "9/9 [==============================] - 3s 275ms/step - loss: 1.3503 - accuracy: 0.5089 - val_loss: 1.3119 - val_accuracy: 0.5116\n",
            "Epoch 9/50\n",
            "9/9 [==============================] - 2s 261ms/step - loss: 1.3524 - accuracy: 0.5267 - val_loss: 1.2497 - val_accuracy: 0.5349\n",
            "Epoch 10/50\n",
            "9/9 [==============================] - 2s 260ms/step - loss: 1.3421 - accuracy: 0.5196 - val_loss: 1.1883 - val_accuracy: 0.5116\n",
            "Epoch 11/50\n",
            "9/9 [==============================] - 2s 252ms/step - loss: 1.3198 - accuracy: 0.5231 - val_loss: 1.1929 - val_accuracy: 0.6047\n",
            "Epoch 12/50\n",
            "9/9 [==============================] - 2s 261ms/step - loss: 1.0596 - accuracy: 0.5943 - val_loss: 1.1603 - val_accuracy: 0.5814\n",
            "Epoch 13/50\n",
            "9/9 [==============================] - 2s 260ms/step - loss: 1.1075 - accuracy: 0.5943 - val_loss: 1.1264 - val_accuracy: 0.5814\n",
            "Epoch 14/50\n",
            "9/9 [==============================] - 2s 261ms/step - loss: 1.0397 - accuracy: 0.6228 - val_loss: 1.0558 - val_accuracy: 0.5814\n",
            "Epoch 15/50\n",
            "9/9 [==============================] - 2s 264ms/step - loss: 1.0567 - accuracy: 0.6228 - val_loss: 1.0317 - val_accuracy: 0.5814\n",
            "Epoch 16/50\n",
            "9/9 [==============================] - 2s 257ms/step - loss: 0.9137 - accuracy: 0.6370 - val_loss: 1.0342 - val_accuracy: 0.5814\n",
            "Epoch 17/50\n",
            "9/9 [==============================] - 2s 263ms/step - loss: 0.9999 - accuracy: 0.6406 - val_loss: 1.0436 - val_accuracy: 0.6047\n",
            "Epoch 18/50\n",
            "9/9 [==============================] - 2s 254ms/step - loss: 0.8445 - accuracy: 0.7224 - val_loss: 0.9711 - val_accuracy: 0.6279\n",
            "Epoch 19/50\n",
            "9/9 [==============================] - 2s 254ms/step - loss: 0.8487 - accuracy: 0.6975 - val_loss: 0.9369 - val_accuracy: 0.6279\n",
            "Epoch 20/50\n",
            "9/9 [==============================] - 2s 256ms/step - loss: 0.8341 - accuracy: 0.6940 - val_loss: 0.9455 - val_accuracy: 0.6047\n",
            "Epoch 21/50\n",
            "9/9 [==============================] - 2s 258ms/step - loss: 0.7420 - accuracy: 0.7153 - val_loss: 0.9989 - val_accuracy: 0.6047\n",
            "Epoch 22/50\n",
            "9/9 [==============================] - 2s 254ms/step - loss: 0.9088 - accuracy: 0.6797 - val_loss: 1.0345 - val_accuracy: 0.6047\n",
            "Epoch 23/50\n",
            "9/9 [==============================] - 2s 257ms/step - loss: 0.7286 - accuracy: 0.6975 - val_loss: 1.0859 - val_accuracy: 0.6047\n",
            "Epoch 24/50\n",
            "9/9 [==============================] - 2s 258ms/step - loss: 0.7719 - accuracy: 0.7189 - val_loss: 1.0743 - val_accuracy: 0.6047\n",
            "Epoch 25/50\n",
            "9/9 [==============================] - 2s 256ms/step - loss: 0.6895 - accuracy: 0.7260 - val_loss: 1.0051 - val_accuracy: 0.6047\n",
            "Epoch 26/50\n",
            "9/9 [==============================] - 2s 272ms/step - loss: 0.5612 - accuracy: 0.8043 - val_loss: 0.9775 - val_accuracy: 0.6047\n",
            "Epoch 27/50\n",
            "9/9 [==============================] - 3s 275ms/step - loss: 0.5972 - accuracy: 0.7616 - val_loss: 0.9465 - val_accuracy: 0.6047\n",
            "Epoch 28/50\n",
            "9/9 [==============================] - 3s 278ms/step - loss: 0.6414 - accuracy: 0.7651 - val_loss: 0.9304 - val_accuracy: 0.6047\n",
            "Epoch 29/50\n",
            "9/9 [==============================] - 3s 278ms/step - loss: 0.6890 - accuracy: 0.7509 - val_loss: 0.9212 - val_accuracy: 0.6047\n",
            "Epoch 30/50\n",
            "9/9 [==============================] - 3s 274ms/step - loss: 0.6235 - accuracy: 0.7758 - val_loss: 0.9619 - val_accuracy: 0.6047\n",
            "Epoch 31/50\n",
            "9/9 [==============================] - 3s 283ms/step - loss: 0.6320 - accuracy: 0.7722 - val_loss: 0.9721 - val_accuracy: 0.6279\n",
            "Epoch 32/50\n",
            "9/9 [==============================] - 3s 279ms/step - loss: 0.5323 - accuracy: 0.8007 - val_loss: 0.9331 - val_accuracy: 0.6512\n",
            "Epoch 33/50\n",
            "9/9 [==============================] - 3s 276ms/step - loss: 0.5141 - accuracy: 0.7900 - val_loss: 0.9356 - val_accuracy: 0.6279\n",
            "Epoch 34/50\n",
            "9/9 [==============================] - 3s 278ms/step - loss: 0.5689 - accuracy: 0.7900 - val_loss: 0.9721 - val_accuracy: 0.6279\n",
            "Epoch 35/50\n",
            "9/9 [==============================] - 3s 280ms/step - loss: 0.4129 - accuracy: 0.8363 - val_loss: 1.0081 - val_accuracy: 0.5814\n",
            "Epoch 36/50\n",
            "9/9 [==============================] - 2s 265ms/step - loss: 0.5429 - accuracy: 0.8007 - val_loss: 1.0217 - val_accuracy: 0.5814\n",
            "Epoch 37/50\n",
            "9/9 [==============================] - 2s 260ms/step - loss: 0.4604 - accuracy: 0.8149 - val_loss: 1.0530 - val_accuracy: 0.6279\n",
            "Epoch 38/50\n",
            "9/9 [==============================] - 2s 257ms/step - loss: 0.4262 - accuracy: 0.8434 - val_loss: 1.0506 - val_accuracy: 0.6279\n",
            "Epoch 39/50\n",
            "9/9 [==============================] - 2s 258ms/step - loss: 0.4467 - accuracy: 0.8292 - val_loss: 1.1104 - val_accuracy: 0.5814\n",
            "Epoch 40/50\n",
            "9/9 [==============================] - 2s 256ms/step - loss: 0.4386 - accuracy: 0.8434 - val_loss: 1.1693 - val_accuracy: 0.6279\n",
            "Epoch 41/50\n",
            "9/9 [==============================] - 2s 257ms/step - loss: 0.3931 - accuracy: 0.8505 - val_loss: 1.1930 - val_accuracy: 0.5814\n",
            "Epoch 42/50\n",
            "9/9 [==============================] - 2s 262ms/step - loss: 0.4674 - accuracy: 0.8114 - val_loss: 1.1692 - val_accuracy: 0.5814\n",
            "Epoch 43/50\n",
            "9/9 [==============================] - 2s 251ms/step - loss: 0.3577 - accuracy: 0.8577 - val_loss: 1.2450 - val_accuracy: 0.6279\n",
            "Epoch 44/50\n",
            "9/9 [==============================] - 2s 259ms/step - loss: 0.3996 - accuracy: 0.8577 - val_loss: 1.2315 - val_accuracy: 0.6047\n",
            "Epoch 45/50\n",
            "9/9 [==============================] - 2s 254ms/step - loss: 0.3415 - accuracy: 0.8434 - val_loss: 1.2679 - val_accuracy: 0.5581\n",
            "Epoch 46/50\n",
            "9/9 [==============================] - 2s 252ms/step - loss: 0.4127 - accuracy: 0.8541 - val_loss: 1.2401 - val_accuracy: 0.6279\n",
            "Epoch 47/50\n",
            "9/9 [==============================] - 2s 255ms/step - loss: 0.3495 - accuracy: 0.8826 - val_loss: 1.2402 - val_accuracy: 0.5814\n",
            "Epoch 48/50\n",
            "9/9 [==============================] - 2s 261ms/step - loss: 0.2488 - accuracy: 0.9181 - val_loss: 1.2222 - val_accuracy: 0.5814\n",
            "Epoch 49/50\n",
            "9/9 [==============================] - 2s 262ms/step - loss: 0.3464 - accuracy: 0.8648 - val_loss: 1.2215 - val_accuracy: 0.5814\n",
            "Epoch 50/50\n",
            "9/9 [==============================] - 2s 256ms/step - loss: 0.4045 - accuracy: 0.8185 - val_loss: 1.2757 - val_accuracy: 0.5814\n"
          ],
          "name": "stdout"
        }
      ]
    },
    {
      "cell_type": "code",
      "metadata": {
        "id": "sFSmInFCLaH2",
        "colab": {
          "base_uri": "https://localhost:8080/",
          "height": 607
        },
        "outputId": "ae8da5e5-1bc3-4a0a-c3eb-2b9d8c2dc26f"
      },
      "source": [
        "history_dict = model_history.history\n",
        "loss_values = history_dict[\"loss\"]\n",
        "val_loss_values = history_dict[\"val_loss\"]\n",
        "acc_values = history_dict[\"accuracy\"]\n",
        "val_acc_values = history_dict[\"val_accuracy\"]\n",
        "epochs = range(1, len(history_dict[\"accuracy\"]) + 1)\n",
        "\n",
        "plt.plot(epochs, loss_values, \"bo\", label=\"train\")\n",
        "plt.plot(epochs, val_loss_values, \"b\", label=\"valid\")\n",
        "plt.title(\"Loss\")\n",
        "plt.xlabel(\"Epochs\")\n",
        "plt.ylabel(\"Loss\")\n",
        "plt.legend()\n",
        "plt.show()\n",
        "\n",
        "plt.plot(epochs, acc_values, \"bo\", label=\"train\")\n",
        "plt.plot(epochs, val_acc_values, \"b\", label=\"valid\")\n",
        "plt.title(\"Accuracy\")\n",
        "plt.xlabel(\"Epochs\")\n",
        "plt.ylabel(\"Accuracy\")\n",
        "plt.legend()\n",
        "plt.show()\n",
        "\n",
        "import numpy as np\n",
        "print(\"best val_acc:\", np.max(val_acc_values), \"epoch:\", np.argmax(val_acc_values))\n",
        "print(\"best val_loss:\", np.min(val_loss_values), \"epoch:\", np.argmin(val_loss_values))"
      ],
      "execution_count": null,
      "outputs": [
        {
          "output_type": "display_data",
          "data": {
            "image/png": "[encoded data removed]",
            "text/plain": [
              "<Figure size 432x288 with 1 Axes>"
            ]
          },
          "metadata": {
            "tags": [],
            "needs_background": "light"
          }
        },
        {
          "output_type": "display_data",
          "data": {
            "image/png": "[encoded data removed]",
            "text/plain": [
              "<Figure size 432x288 with 1 Axes>"
            ]
          },
          "metadata": {
            "tags": [],
            "needs_background": "light"
          }
        },
        {
          "output_type": "stream",
          "text": [
            "best val_acc: 0.6511628031730652 epoch: 31\n",
            "best val_loss: 0.9212071895599365 epoch: 28\n"
          ],
          "name": "stdout"
        }
      ]
    },
    {
      "cell_type": "code",
      "metadata": {
        "id": "9Xth8S_ULdH8",
        "colab": {
          "base_uri": "https://localhost:8080/"
        },
        "outputId": "39062acc-b3be-4f1a-9b56-cb05e48bb5a2"
      },
      "source": [
        "test_loss, test_acc = model.evaluate(test_generator)\n",
        "print(\"Test Accuracy:\", test_acc)"
      ],
      "execution_count": null,
      "outputs": [
        {
          "output_type": "stream",
          "text": [
            "2/2 [==============================] - 0s 44ms/step - loss: 1.2757 - accuracy: 0.5814\n",
            "Test Accuracy: 0.5813953280448914\n"
          ],
          "name": "stdout"
        }
      ]
    },
    {
      "cell_type": "code",
      "metadata": {
        "id": "53zvem8gL0rM",
        "colab": {
          "resources": {
            "http://localhost:8080/nbextensions/google.colab/files.js": {
              "data": "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",
              "ok": true,
              "headers": [
                [
                  "content-type",
                  "application/javascript"
                ]
              ],
              "status": 200,
              "status_text": ""
            }
          },
          "base_uri": "https://localhost:8080/",
          "height": 548
        },
        "outputId": "cff8e89f-14f3-4320-dde1-9200f96f5c5b"
      },
      "source": [
        "from google.colab import files\n",
        "from keras.preprocessing import image\n",
        "\n",
        "uploaded = files.upload()\n",
        "\n",
        "for fn in uploaded.keys():\n",
        " \n",
        "  # predicting images\n",
        "  path = '/content/' + fn\n",
        "  img = image.load_img(path, target_size=(224, 224))\n",
        "  x = image.img_to_array(img)\n",
        "  x = np.expand_dims(x, axis=0)\n",
        "\n",
        "  images = np.vstack([x])\n",
        "  classes = model.predict(images, batch_size=62)\n",
        "\n",
        "  print(fn + \"==>\"+ label[np.argmax(classes)])"
      ],
      "execution_count": null,
      "outputs": [
        {
          "output_type": "display_data",
          "data": {
            "text/html": [
              "\n",
              "     <input type=\"file\" id=\"files-8461c704-990e-497c-8812-7cc47e20edb0\" name=\"files[]\" multiple disabled\n",
              "        style=\"border:none\" />\n",
              "     <output id=\"result-8461c704-990e-497c-8812-7cc47e20edb0\">\n",
              "      Upload widget is only available when the cell has been executed in the\n",
              "      current browser session. Please rerun this cell to enable.\n",
              "      </output>\n",
              "      <script src=\"/nbextensions/google.colab/files.js\"></script> "
            ],
            "text/plain": [
              "<IPython.core.display.HTML object>"
            ]
          },
          "metadata": {
            "tags": []
          }
        },
        {
          "output_type": "stream",
          "text": [
            "Saving 10-nitik-motif-batik-kawung.jpg to 10-nitik-motif-batik-kawung.jpg\n",
            "Saving KP022.jpg to KP022.jpg\n",
            "Saving KP023.jpg to KP023.jpg\n",
            "Saving KP024.jpg to KP024.jpg\n",
            "Saving KP029.jpg to KP029.jpg\n",
            "Saving KP030.jpg to KP030.jpg\n",
            "Saving YC004.jpg to YC004.jpg\n",
            "Saving YC035.jpg to YC035.jpg\n",
            "Saving YK048.jpg to YK048.jpg\n",
            "Saving YT026.jpg to YT026.jpg\n",
            "10-nitik-motif-batik-kawung.jpg==>Geblek Renteng\n",
            "KP022.jpg==>Kawung\n",
            "KP023.jpg==>Parang\n",
            "KP024.jpg==>Lereng\n",
            "KP029.jpg==>Kawung\n",
            "KP030.jpg==>Kawung\n",
            "YC004.jpg==>Kawung\n",
            "YC035.jpg==>Kawung\n",
            "YK048.jpg==>Parang\n",
            "YT026.jpg==>Parang\n"
          ],
          "name": "stdout"
        }
      ]
    },
    {
      "cell_type": "code",
      "metadata": {
        "colab": {
          "base_uri": "https://localhost:8080/"
        },
        "id": "4IgWPwDZN3VN",
        "outputId": "6195b934-b968-4e21-dcdb-c58da0add591"
      },
      "source": [
        "# Save as saved_model\n",
        "model.save(\"saved_model/batik_model\")\n",
        "\n",
        "save_tflite_path = \"./batik_model.tflite\"\n",
        "\n",
        "tf.compat.v1.enable_eager_execution()\n",
        "\n",
        "# Weight Quantization - Input/Output=float32\n",
        "converter = tf.lite.TFLiteConverter.from_saved_model('./saved_model/batik_model/')\n",
        "converter.experimental_new_converter = True\n",
        "converter.optimizations = [tf.lite.Optimize.OPTIMIZE_FOR_SIZE]\n",
        "tflite_quant_model = converter.convert()\n",
        "with open(save_tflite_path, 'wb') as w:\n",
        "    w.write(tflite_quant_model)\n",
        "print(\"Weight Quantization complete! -\", save_tflite_path)"
      ],
      "execution_count": null,
      "outputs": [
        {
          "output_type": "stream",
          "text": [
            "/usr/local/lib/python3.7/dist-packages/keras/utils/generic_utils.py:497: CustomMaskWarning: Custom mask layers require a config and must override get_config. When loading, the custom mask layer must be passed to the custom_objects argument.\n",
            "  category=CustomMaskWarning)\n"
          ],
          "name": "stderr"
        },
        {
          "output_type": "stream",
          "text": [
            "INFO:tensorflow:Assets written to: saved_model/batik_model/assets\n",
            "Weight Quantization complete! - ./batik_model.tflite\n"
          ],
          "name": "stdout"
        }
      ]
    },
    {
      "cell_type": "code",
      "metadata": {
        "id": "HpbydLRNNSPz"
      },
      "source": [
        "tf.keras.models.save_model(model,'my_model.hdf5')"
      ],
      "execution_count": null,
      "outputs": []
    },
    {
      "cell_type": "code",
      "metadata": {
        "id": "IrR3_UVwX4x0"
      },
      "source": [
        "model.save('my_model.h5')"
      ],
      "execution_count": null,
      "outputs": []
    }
  ]
}